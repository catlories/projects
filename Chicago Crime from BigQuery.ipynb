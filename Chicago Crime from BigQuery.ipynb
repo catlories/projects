{
  "metadata": {
    "language_info": {
      "file_extension": ".sqlite3-console",
      "mimetype": "text/x-sqlite3-console",
      "name": "sqlite3",
      "version": "0.4.0"
    },
    "kernelspec": {
      "name": "SQLite",
      "display_name": "SQLite",
      "language": "sql"
    }
  },
  "nbformat_minor": 4,
  "nbformat": 4,
  "cells": [
    {
      "cell_type": "code",
      "source": "-- View first 100 rows of data table\nSELECT * \nFROM `bigquery-public-data.chicago_crime.crime`\nLIMIT 100;\n\n-- How many entries are there?\nSELECT COUNT(*) as total_crime_count \nFROM `bigquery-public-data.chicago_crime.crime`;\n-- Result: 7585742\n\n-- When does the data end collection (end date)?\nSELECT *\nFROM `bigquery-public-data.chicago_crime.crime`\nORDER BY date\nLIMIT 100;\n-- Data's latest collection at 2001-01-01\n\n-- When does the data start collection (start date)?\nSELECT *\nFROM `bigquery-public-data.chicago_crime.crime`\nORDER BY date DESC\nLIMIT 100;\n--Data's latest collection at 2022-07-13\n\n-- ALT Date range query\nSELECT MIN(date) AS data_start_date, MAX(date) AS data_end_date\nFROM `bigquery-public-data.chicago_crime.crime`;\n\n-- What are the different categorized crime types?\nSELECT DISTINCT primary_type AS crime_types\nFROM `bigquery-public-data.chicago_crime.crime`\nORDER BY primary_type;\n-- Result: There are 36 crime types, however there are unexplained potential duplicates with NON - CRIMINAL and NON-CRIMINAL\n\n-- Show only the NON-CRIMINAL values\nSELECT DISTINCT primary_type as crime_types\nFROM `bigquery-public-data.chicago_crime.crime`\nWHERE primary_type LIKE '%CRIMINAL%';\n-- RESULT: 6 total values with 2 types of CRIMINAL and NON-CRIMINAL with sub-groups\n\n-- How many crimes are in each crime_type?\nSELECT primary_type, COUNT(*) AS total_count\nFROM `bigquery-public-data.chicago_crime.crime`\nGROUP BY primary_type\nORDER BY total_count DESC;\n-- Results yielded interesting counts. Top three are theft, battery, criminal damage, with domestic violence at 1 count in 22 years of collection.\n\n-- How many crimes resulted in an arrest?\nSELECT COUNT(*) as total_num_arrested_crimes\nFROM `bigquery-public-data.chicago_crime.crime`\nWHERE arrest = true;\n-- Result 2011832\n\n-- How much does each type occur (as a percentage)?\nSELECT primary_type, COUNT(*) AS type_count,\n  COUNT(*) * 100.0/ sum(count(*)) over () AS type_percent\nFROM `bigquery-public-data.chicago_crime.crime`\nGROUP BY primary_type\nORDER BY type_percent DESC;\n-- Results: Theft, Battery, and Criminal Damage account for 40% of the crimes committed\n\n-- How many blocks are there?\nSELECT COUNT(DISTINCT block) AS num_blocks\nFROM `bigquery-public-data.chicago_crime.crime`;\n-- Result: 62280 blocks\n",
      "metadata": {},
      "execution_count": null,
      "outputs": []
    }
  ]
}